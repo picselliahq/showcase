{
 "cells": [
  {
   "cell_type": "code",
   "execution_count": null,
   "metadata": {},
   "outputs": [],
   "source": [
    "import picsellia\n",
    "import os\n",
    "api_token = os.environ.get(\"PICSELLIA_TOKEN\", None)\n",
    "\n",
    "if api_token is None:\n",
    "    api_token = input(\"Please enter your TOKEN here :\")\n",
    "\n",
    "client = picsellia.Client(api_token=api_token)"
   ]
  },
  {
   "cell_type": "code",
   "execution_count": null,
   "metadata": {},
   "outputs": [],
   "source": [
    "dataset = client.get_dataset(\"Power Pilones\")\n",
    "version = dataset.get_version(\"v1-one_class\")"
   ]
  },
  {
   "cell_type": "code",
   "execution_count": null,
   "metadata": {},
   "outputs": [],
   "source": [
    "train_dataset = dataset.create_version(\"train\")\n",
    "test_dataset  = dataset.create_version(\"test\")\n",
    "valid_dataset = dataset.create_version(\"valid\")"
   ]
  },
  {
   "cell_type": "code",
   "execution_count": null,
   "metadata": {},
   "outputs": [],
   "source": [
    "all_assets = version.list_assets()"
   ]
  },
  {
   "cell_type": "code",
   "execution_count": null,
   "metadata": {},
   "outputs": [],
   "source": [
    "import random \n",
    "random.shuffle(all_assets)"
   ]
  },
  {
   "cell_type": "code",
   "execution_count": null,
   "metadata": {},
   "outputs": [],
   "source": [
    "train_limit = int(len(all_assets)*0.7)\n",
    "test_limit = train_limit + int(len(all_assets)*0.15)"
   ]
  },
  {
   "cell_type": "code",
   "execution_count": null,
   "metadata": {},
   "outputs": [],
   "source": [
    "train_fnames, test_fnames, valid_fnames = list(), list(), list()\n",
    "for i, asset in enumerate(all_assets):\n",
    "    if i < train_limit:\n",
    "        train_fnames.append(asset.filename)\n",
    "    elif i < test_limit:\n",
    "        test_fnames.append(asset.filename)\n",
    "    else:\n",
    "        valid_fnames.append(asset.filename)"
   ]
  },
  {
   "cell_type": "code",
   "execution_count": null,
   "metadata": {},
   "outputs": [],
   "source": [
    "datalake = client.get_datalake()\n",
    "import tqdm\n",
    "for fname in tqdm.tqdm(train_fnames):\n",
    "    data = datalake.find_data(filename=fname)\n",
    "    train_dataset.add_data(data=data)\n",
    "\n",
    "\n",
    "for fname in tqdm.tqdm(test_fnames):\n",
    "    data = datalake.find_data(filename=fname)\n",
    "    test_dataset.add_data(data=data)\n",
    "\n",
    "for fname in tqdm.tqdm(valid_fnames):\n",
    "    data = datalake.find_data(filename=fname)\n",
    "    valid_dataset.add_data(data=data)"
   ]
  }
 ],
 "metadata": {
  "kernelspec": {
   "display_name": "Python 3.8.13 ('torch')",
   "language": "python",
   "name": "python3"
  },
  "language_info": {
   "codemirror_mode": {
    "name": "ipython",
    "version": 3
   },
   "file_extension": ".py",
   "mimetype": "text/x-python",
   "name": "python",
   "nbconvert_exporter": "python",
   "pygments_lexer": "ipython3",
   "version": "3.8.13"
  },
  "orig_nbformat": 4,
  "vscode": {
   "interpreter": {
    "hash": "476fd4e82c63efd976f773946d08674088e6de998a4727b65f3b7d68264a537a"
   }
  }
 },
 "nbformat": 4,
 "nbformat_minor": 2
}
