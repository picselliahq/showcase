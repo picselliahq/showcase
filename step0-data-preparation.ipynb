{
 "cells": [
  {
   "cell_type": "code",
   "execution_count": null,
   "metadata": {},
   "outputs": [],
   "source": [
    "import picsellia\n",
    "import os\n",
    "api_token = os.environ.get(\"PICSELLIA_TOKEN\", None)\n",
    "\n",
    "if api_token is None:\n",
    "    api_token = input(\"Please enter your TOKEN here :\")\n",
    "\n",
    "client = picsellia.Client(api_token=api_token)"
   ]
  },
  {
   "cell_type": "code",
   "execution_count": null,
   "metadata": {},
   "outputs": [],
   "source": [
    "dataset = client.get_dataset(\"Power Pilones\")\n",
    "version = dataset.get_version(\"entire-dataset\")"
   ]
  },
  {
   "cell_type": "code",
   "execution_count": null,
   "metadata": {},
   "outputs": [],
   "source": [
    "train_dataset = dataset.create_version(\"train\")\n",
    "test_dataset  = dataset.create_version(\"test\")\n",
    "valid_dataset = dataset.create_version(\"valid\")"
   ]
  },
  {
   "cell_type": "code",
   "execution_count": null,
   "metadata": {},
   "outputs": [],
   "source": [
    "all_assets = version.list_assets()"
   ]
  },
  {
   "cell_type": "code",
   "execution_count": null,
   "metadata": {},
   "outputs": [],
   "source": [
    "import random \n",
    "random.shuffle(all_assets)"
   ]
  },
  {
   "cell_type": "code",
   "execution_count": null,
   "metadata": {},
   "outputs": [],
   "source": [
    "train_limit = int(len(all_assets)*0.7)\n",
    "test_limit = train_limit + int(len(all_assets)*0.15)"
   ]
  },
  {
   "cell_type": "code",
   "execution_count": null,
   "metadata": {},
   "outputs": [],
   "source": [
    "train_fnames, test_fnames, valid_fnames = list(), list(), list()\n",
    "for i, asset in enumerate(all_assets):\n",
    "    if i < train_limit:\n",
    "        train_fnames.append(asset.filename)\n",
    "    elif i < test_limit:\n",
    "        test_fnames.append(asset.filename)\n",
    "    else:\n",
    "        valid_fnames.append(asset.filename)"
   ]
  },
  {
   "cell_type": "code",
   "execution_count": null,
   "metadata": {},
   "outputs": [],
   "source": [
    "datalake = client.get_datalake()\n",
    "import tqdm\n",
    "for fname in tqdm.tqdm(train_fnames):\n",
    "    data = datalake.find_data(filename=fname)\n",
    "    train_dataset.add_data(data=data)\n",
    "\n",
    "\n",
    "for fname in tqdm.tqdm(test_fnames):\n",
    "    data = datalake.find_data(filename=fname)\n",
    "    test_dataset.add_data(data=data)\n",
    "\n",
    "for fname in tqdm.tqdm(valid_fnames):\n",
    "    data = datalake.find_data(filename=fname)\n",
    "    valid_dataset.add_data(data=data)"
   ]
  },
  {
   "cell_type": "code",
   "execution_count": 3,
   "metadata": {},
   "outputs": [],
   "source": [
    "from pycocotools.cocoeval import COCOeval"
   ]
  },
  {
   "cell_type": "code",
   "execution_count": 5,
   "metadata": {},
   "outputs": [],
   "source": [
    "annpath = \"/Users/thibautlucas/Downloads/datasets/power-lines.v2i.coco/train/_annotations.coco.json\""
   ]
  },
  {
   "cell_type": "code",
   "execution_count": 6,
   "metadata": {},
   "outputs": [
    {
     "ename": "Exception",
     "evalue": "iouType not supported",
     "output_type": "error",
     "traceback": [
      "\u001b[0;31m---------------------------------------------------------------------------\u001b[0m",
      "\u001b[0;31mException\u001b[0m                                 Traceback (most recent call last)",
      "Cell \u001b[0;32mIn [6], line 1\u001b[0m\n\u001b[0;32m----> 1\u001b[0m \u001b[39meval\u001b[39m \u001b[39m=\u001b[39m COCOeval(annpath, annpath, \u001b[39m'\u001b[39;49m\u001b[39mdet\u001b[39;49m\u001b[39m'\u001b[39;49m)\n",
      "File \u001b[0;32m~/miniconda3/envs/torch/lib/python3.8/site-packages/pycocotools/cocoeval.py:75\u001b[0m, in \u001b[0;36mCOCOeval.__init__\u001b[0;34m(self, cocoGt, cocoDt, iouType)\u001b[0m\n\u001b[1;32m     73\u001b[0m \u001b[39mself\u001b[39m\u001b[39m.\u001b[39m_gts \u001b[39m=\u001b[39m defaultdict(\u001b[39mlist\u001b[39m)       \u001b[39m# gt for evaluation\u001b[39;00m\n\u001b[1;32m     74\u001b[0m \u001b[39mself\u001b[39m\u001b[39m.\u001b[39m_dts \u001b[39m=\u001b[39m defaultdict(\u001b[39mlist\u001b[39m)       \u001b[39m# dt for evaluation\u001b[39;00m\n\u001b[0;32m---> 75\u001b[0m \u001b[39mself\u001b[39m\u001b[39m.\u001b[39mparams \u001b[39m=\u001b[39m Params(iouType\u001b[39m=\u001b[39;49miouType) \u001b[39m# parameters\u001b[39;00m\n\u001b[1;32m     76\u001b[0m \u001b[39mself\u001b[39m\u001b[39m.\u001b[39m_paramsEval \u001b[39m=\u001b[39m {}               \u001b[39m# parameters for evaluation\u001b[39;00m\n\u001b[1;32m     77\u001b[0m \u001b[39mself\u001b[39m\u001b[39m.\u001b[39mstats \u001b[39m=\u001b[39m []                     \u001b[39m# result summarization\u001b[39;00m\n",
      "File \u001b[0;32m~/miniconda3/envs/torch/lib/python3.8/site-packages/pycocotools/cocoeval.py:531\u001b[0m, in \u001b[0;36mParams.__init__\u001b[0;34m(self, iouType)\u001b[0m\n\u001b[1;32m    529\u001b[0m     \u001b[39mself\u001b[39m\u001b[39m.\u001b[39msetKpParams()\n\u001b[1;32m    530\u001b[0m \u001b[39melse\u001b[39;00m:\n\u001b[0;32m--> 531\u001b[0m     \u001b[39mraise\u001b[39;00m \u001b[39mException\u001b[39;00m(\u001b[39m'\u001b[39m\u001b[39miouType not supported\u001b[39m\u001b[39m'\u001b[39m)\n\u001b[1;32m    532\u001b[0m \u001b[39mself\u001b[39m\u001b[39m.\u001b[39miouType \u001b[39m=\u001b[39m iouType\n\u001b[1;32m    533\u001b[0m \u001b[39m# useSegm is deprecated\u001b[39;00m\n",
      "\u001b[0;31mException\u001b[0m: iouType not supported"
     ]
    }
   ],
   "source": [
    "eval = COCOeval(annpath, annpath)"
   ]
  }
 ],
 "metadata": {
  "kernelspec": {
   "display_name": "Python 3.8.13 ('torch')",
   "language": "python",
   "name": "python3"
  },
  "language_info": {
   "codemirror_mode": {
    "name": "ipython",
    "version": 3
   },
   "file_extension": ".py",
   "mimetype": "text/x-python",
   "name": "python",
   "nbconvert_exporter": "python",
   "pygments_lexer": "ipython3",
   "version": "3.8.13"
  },
  "orig_nbformat": 4,
  "vscode": {
   "interpreter": {
    "hash": "476fd4e82c63efd976f773946d08674088e6de998a4727b65f3b7d68264a537a"
   }
  }
 },
 "nbformat": 4,
 "nbformat_minor": 2
}
